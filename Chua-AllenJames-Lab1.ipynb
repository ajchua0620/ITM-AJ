{
 "cells": [
  {
   "cell_type": "markdown",
   "metadata": {},
   "source": [
    "191154\n",
    "Chua\n",
    "2 BS ME"
   ]
  },
  {
   "cell_type": "code",
   "execution_count": 12,
   "metadata": {},
   "outputs": [
    {
     "name": "stdout",
     "output_type": "stream",
     "text": [
      "Enter the amount in US Dollars: 50\n",
      "50.0  US dollar(s)=  2500.0  Philippine Pesos.\n"
     ]
    }
   ],
   "source": [
    "def dollars_to_pesos(dollars):\n",
    "    pesos=dollars*50\n",
    "    return pesos\n",
    "dollars=float(input(\"Enter the amount in US Dollars: \"))\n",
    "pesos=dollars_to_pesos(dollars)\n",
    "print(dollars, \" US dollar(s)= \", pesos, \" Philippine Pesos.\")"
   ]
  },
  {
   "cell_type": "code",
   "execution_count": 6,
   "metadata": {},
   "outputs": [
    {
     "name": "stdout",
     "output_type": "stream",
     "text": [
      "55\n",
      "3\n",
      "58\n",
      "52\n",
      "165\n",
      "18\n",
      "1\n"
     ]
    }
   ],
   "source": [
    "a=int(input(\"\"))\n",
    "b=int(input(\"\"))\n",
    "sum=a+b\n",
    "difference=a-b\n",
    "product=a*b\n",
    "quotient=a//b\n",
    "remainder=a%b\n",
    "print(sum)\n",
    "print(difference)\n",
    "print(product)\n",
    "print(quotient)\n",
    "print(remainder)"
   ]
  },
  {
   "cell_type": "code",
   "execution_count": 10,
   "metadata": {},
   "outputs": [
    {
     "name": "stdout",
     "output_type": "stream",
     "text": [
      "Enter kg: 70\n",
      "Enter cm: 170\n",
      "BMI:  24.221453287197235\n"
     ]
    }
   ],
   "source": [
    "def convert_cm_to_m(cm):\n",
    "    m=cm/100\n",
    "    return m\n",
    "def compute_bmi(kg,m):\n",
    "    bmi=kg/(m**2)\n",
    "    return bmi\n",
    "\n",
    "kg=float(input(\"Enter kg: \"))\n",
    "cm=float(input(\"Enter cm: \"))\n",
    "m=convert_cm_to_m(cm)\n",
    "bmi=compute_bmi(kg,m)\n",
    "print(\"BMI: \", bmi)"
   ]
  },
  {
   "cell_type": "code",
   "execution_count": null,
   "metadata": {},
   "outputs": [],
   "source": []
  },
  {
   "cell_type": "code",
   "execution_count": null,
   "metadata": {},
   "outputs": [],
   "source": []
  }
 ],
 "metadata": {
  "kernelspec": {
   "display_name": "Python 3",
   "language": "python",
   "name": "python3"
  },
  "language_info": {
   "codemirror_mode": {
    "name": "ipython",
    "version": 3
   },
   "file_extension": ".py",
   "mimetype": "text/x-python",
   "name": "python",
   "nbconvert_exporter": "python",
   "pygments_lexer": "ipython3",
   "version": "3.7.6"
  }
 },
 "nbformat": 4,
 "nbformat_minor": 4
}
