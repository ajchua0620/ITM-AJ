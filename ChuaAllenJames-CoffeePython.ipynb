{
 "cells": [
  {
   "cell_type": "code",
   "execution_count": 1,
   "metadata": {
    "colab": {},
    "colab_type": "code",
    "executionInfo": {
     "elapsed": 2137,
     "status": "ok",
     "timestamp": 1596038558082,
     "user": {
      "displayName": "ANGELO LUIGI ONG",
      "photoUrl": "",
      "userId": "10723815057563327185"
     },
     "user_tz": -480
    },
    "id": "69repFUu1tyS"
   },
   "outputs": [],
   "source": [
    "products = {\n",
    "    \"americano\":{\"name\":\"Americano\",\"price\":150.00},\n",
    "    \"brewedcoffee\":{\"name\":\"Brewed Coffee\",\"price\":110.00},\n",
    "    \"cappuccino\":{\"name\":\"Cappuccino\",\"price\":170.00},\n",
    "    \"dalgona\":{\"name\":\"Dalgona\",\"price\":170.00},\n",
    "    \"espresso\":{\"name\":\"Espresso\",\"price\":140.00},\n",
    "    \"frappuccino\":{\"name\":\"Frappuccino\",\"price\":170.00},\n",
    "}"
   ]
  },
  {
   "cell_type": "markdown",
   "metadata": {
    "colab_type": "text",
    "id": "xwWijOnd1tyg"
   },
   "source": [
    "\n",
    "### 1. product information lookup function (3 points)\n",
    "Write a function get_product(code) where code is the key of the product information in the products dictionary. The function should return the dictionary containing the specific product information. For example:\n",
    "\n",
    "get_product(\"espresso\")\n",
    "\n",
    "should yield\n",
    "\n",
    "{\"name\":\"Espresso\",\"price\":140.00}"
   ]
  },
  {
   "cell_type": "code",
   "execution_count": 2,
   "metadata": {
    "colab": {
     "base_uri": "https://localhost:8080/",
     "height": 35
    },
    "colab_type": "code",
    "executionInfo": {
     "elapsed": 1932,
     "status": "ok",
     "timestamp": 1596038562832,
     "user": {
      "displayName": "ANGELO LUIGI ONG",
      "photoUrl": "",
      "userId": "10723815057563327185"
     },
     "user_tz": -480
    },
    "id": "vJPtchqE1tyj",
    "outputId": "9a8e8e61-bee2-40cf-ccc9-9e83e1bb825f"
   },
   "outputs": [
    {
     "data": {
      "text/plain": [
       "{'name': 'Espresso', 'price': 140.0}"
      ]
     },
     "execution_count": 2,
     "metadata": {},
     "output_type": "execute_result"
    }
   ],
   "source": [
    "## Answer\n",
    "def get_product(code):\n",
    "    ## write your code here\n",
    "    info=products[code]\n",
    "    return info\n",
    "get_product(\"espresso\")"
   ]
  },
  {
   "cell_type": "markdown",
   "metadata": {
    "colab_type": "text",
    "id": "Uw12O9q31tyu"
   },
   "source": [
    "### 2. retrieve product attributes (2 points)\n",
    "a. Write one line of code that calls get_product(code) and evaluates to the price of that product."
   ]
  },
  {
   "cell_type": "code",
   "execution_count": 3,
   "metadata": {
    "colab": {
     "base_uri": "https://localhost:8080/",
     "height": 35
    },
    "colab_type": "code",
    "executionInfo": {
     "elapsed": 1750,
     "status": "ok",
     "timestamp": 1596038595729,
     "user": {
      "displayName": "ANGELO LUIGI ONG",
      "photoUrl": "",
      "userId": "10723815057563327185"
     },
     "user_tz": -480
    },
    "id": "nOjbEOLo1tyv",
    "outputId": "e70c8bef-6758-4ecd-e95e-309c89d04676",
    "scrolled": true
   },
   "outputs": [
    {
     "data": {
      "text/plain": [
       "140.0"
      ]
     },
     "execution_count": 3,
     "metadata": {},
     "output_type": "execute_result"
    }
   ],
   "source": [
    "## Answer: \n",
    "\n",
    "get_product('espresso')[\"price\"]\n"
   ]
  },
  {
   "cell_type": "markdown",
   "metadata": {
    "colab_type": "text",
    "id": "YABCqH5D1ty0"
   },
   "source": [
    "b. Write one line of code that calls get_product(code) and evaluates to the name of that product.\n",
    "\n",
    "You may include your one line of code inside a function that returns the name. The function definition and the return statements are excluded from the count."
   ]
  },
  {
   "cell_type": "code",
   "execution_count": 4,
   "metadata": {
    "colab": {
     "base_uri": "https://localhost:8080/",
     "height": 38
    },
    "colab_type": "code",
    "executionInfo": {
     "elapsed": 1718,
     "status": "ok",
     "timestamp": 1596038603809,
     "user": {
      "displayName": "ANGELO LUIGI ONG",
      "photoUrl": "",
      "userId": "10723815057563327185"
     },
     "user_tz": -480
    },
    "id": "eUfD-S_h1ty1",
    "outputId": "8ceb8e44-fa3a-48bd-cbc5-7c7db6410c99"
   },
   "outputs": [
    {
     "data": {
      "text/plain": [
       "'Espresso'"
      ]
     },
     "execution_count": 4,
     "metadata": {},
     "output_type": "execute_result"
    }
   ],
   "source": [
    "## Answer:\n",
    "get_product('espresso')[\"name\"]\n",
    "## write your answer here (sample output has already been provided below)"
   ]
  },
  {
   "cell_type": "markdown",
   "metadata": {
    "colab_type": "text",
    "id": "hiTzJi0x1ty8"
   },
   "source": [
    "### 2. Point-of-Sale Terminal (5 points)\n",
    "Write a function main that asks for orders of food from a customer. The system should ask for the following:\n",
    "\n",
    "Product Code (assume that the clerk has memorized the product codes)\n",
    "Quantity\n",
    "The system then must update an electronic food tray (which is just a fancy term for a list of items ordered). Implement the food tray as a list of ordered items, each of which is a dictionary containing the following key-value pairs:\n",
    "\n",
    "product_code,\n",
    "quantity\n",
    "subtotal (which is just the quantity multiplied by the price of the product)\n",
    "Design your program such that food_tray is a variable of the main function for now. We will deal with better software design later on. In any case, if any of your functions need to work on the food_tray, pass it as a parameter.\n",
    "\n",
    "The system must compute the subtotal before appending to the food tray.\n",
    "\n",
    "The system must be able to determine if the customer is done with his/her order. Once done, the system notifies the clerk/user of the grand total.\n",
    "\n",
    "The system then prints out the receipt (for now, just show it appear in the notebook), after which it is ready to process the next customer order. Make sure to clear out the food_tray after each successful order.\n",
    "\n",
    "Bonus (2 points): Format the receipt output using various print formatting options. You will have to do research on this."
   ]
  },
  {
   "cell_type": "code",
   "execution_count": 5,
   "metadata": {
    "colab": {},
    "colab_type": "code",
    "executionInfo": {
     "elapsed": 2381,
     "status": "ok",
     "timestamp": 1596038612856,
     "user": {
      "displayName": "ANGELO LUIGI ONG",
      "photoUrl": "",
      "userId": "10723815057563327185"
     },
     "user_tz": -480
    },
    "id": "7EcohYWS1ty9"
   },
   "outputs": [],
   "source": [
    "def add_to_tray(food_tray, ordered_item):\n",
    "    ## write your code here\n",
    "    food_tray.append(ordered_item)\n",
    "    #for ordered_item in food_tray:\n",
    "    #    food_tray.append[ordered_item]\n",
    "    \n",
    "    "
   ]
  },
  {
   "cell_type": "code",
   "execution_count": 6,
   "metadata": {
    "colab": {},
    "colab_type": "code",
    "executionInfo": {
     "elapsed": 1088,
     "status": "ok",
     "timestamp": 1596040879402,
     "user": {
      "displayName": "ANGELO LUIGI ONG",
      "photoUrl": "",
      "userId": "10723815057563327185"
     },
     "user_tz": -480
    },
    "id": "Gj-nwON71tzC"
   },
   "outputs": [],
   "source": [
    "def generate_receipt(food_tray):\n",
    "    ## write your code here\n",
    "    ## it is expected you will use print instead of returning a value\n",
    "    ## hint: use accumulator pattern and loop through the items in the food tray\n",
    "    ## hint: you will have to look up the product name from the products dictionary to make the receipt\n",
    "    ##       more presentable\n",
    "    total = 0\n",
    "    print(\"--------------------------------------------------------\")\n",
    "    print(\"\\t\\tCoffeePython Invoice\")\n",
    "    print(\"Product\\t\\tQuantity\\tUnit Price\\tSubtotal\")\n",
    "    for food in food_tray:\n",
    "        key = food.get('code')\n",
    "        print(get_product(key)[\"name\"],\"\\t\",food.get('qty'),\"\\t\\t\",get_product(key)[\"price\"],\"\\t\\t\",food.get('subtotal'))\n",
    "        total += food.get('subtotal')\n",
    "    print(\"\\nYour total balance is \",total)\n",
    "    print(\"--------------------------------------------------------\")        \n",
    "        "
   ]
  },
  {
   "cell_type": "markdown",
   "metadata": {
    "colab_type": "text",
    "id": "bMA5u7gT1tzG"
   },
   "source": [
    "Hint: The ordered_item dictionary inside main() has at least three keys: code, qty, and subtotal. You know how to get code and qty as these come from variables storing entered values from input(\"...\"). To compute subtotal you need to get the price of the product (using code) somewhere. Your answer in 2a. will help you.\n",
    "\n",
    "This new ordered_item dictionary will then need to be added to the food_tray list in a later step. We can add dictionaries to lists, right? Call the function add_to_tray(food_tray, ordered_item) to do this.\n",
    "\n",
    "The variable food_tray is a list of dictionaries. The ordered_item variable is a dictionary."
   ]
  },
  {
   "cell_type": "code",
   "execution_count": 7,
   "metadata": {
    "colab": {},
    "colab_type": "code",
    "executionInfo": {
     "elapsed": 2516,
     "status": "ok",
     "timestamp": 1596038623642,
     "user": {
      "displayName": "ANGELO LUIGI ONG",
      "photoUrl": "",
      "userId": "10723815057563327185"
     },
     "user_tz": -480
    },
    "id": "_NodojJC1tzH"
   },
   "outputs": [],
   "source": [
    "def main():\n",
    "    \n",
    "    food_tray = []\n",
    "    command = \"N\"\n",
    "    while(True):\n",
    "        command = input(\"Options: N-New customer, Q-Quit \")\n",
    "        if(command.upper()==\"Q\"):\n",
    "            break\n",
    "        else:\n",
    "            more = \"Y\"\n",
    "            while(more==\"Y\"):\n",
    "                code = input(\"Enter Product Code: \")\n",
    "                qty = int(input(\"Enter Quantity: \"))\n",
    "                print(code + \": \"+str(qty))\n",
    "                ## add code here\n",
    "                ordered_item = dict()\n",
    "                ordered_item[\"code\"] = code\n",
    "                ordered_item[\"qty\"] = qty\n",
    "                ## compute subtotal and add to the ordered_item dictionary\n",
    "                ordered_item[\"subtotal\"] = int(qty) * get_product(code)[\"price\"]\n",
    "                \n",
    "                ## add to food_tray\n",
    "                add_to_tray(food_tray,ordered_item)\n",
    "\n",
    "                more = input(\"Add more items? (Y/N): \").upper()\n",
    "                \n",
    "        # print(food_tray) # replace with an on-screen receipt\n",
    "        generate_receipt(food_tray)\n",
    "        food_tray = [] # clear out food tray\n",
    "        \n",
    "        \n",
    "    print(\"Exiting CoffeePython POS Terminal. Have a great day.\")"
   ]
  },
  {
   "cell_type": "code",
   "execution_count": 10,
   "metadata": {
    "colab": {
     "base_uri": "https://localhost:8080/",
     "height": 935
    },
    "colab_type": "code",
    "executionInfo": {
     "elapsed": 178722,
     "status": "ok",
     "timestamp": 1596041060988,
     "user": {
      "displayName": "ANGELO LUIGI ONG",
      "photoUrl": "",
      "userId": "10723815057563327185"
     },
     "user_tz": -480
    },
    "id": "U5slHPgU1tzK",
    "outputId": "26bafe2b-4ede-453b-892d-7fc2d0e37659"
   },
   "outputs": [
    {
     "name": "stdout",
     "output_type": "stream",
     "text": [
      "Options: N-New customer, Q-Quit N\n",
      "Enter Product Code: espresso\n",
      "Enter Quantity: 4\n",
      "espresso: 4\n",
      "Add more items? (Y/N): Y\n",
      "Enter Product Code: brewedcoffee\n",
      "Enter Quantity: 7\n",
      "brewedcoffee: 7\n",
      "Add more items? (Y/N): Y\n",
      "Enter Product Code: dalgona\n",
      "Enter Quantity: 7\n",
      "dalgona: 7\n",
      "Add more items? (Y/N): N\n",
      "--------------------------------------------------------\n",
      "\t\tCoffeePython Invoice\n",
      "Product\t\tQuantity\tUnit Price\tSubtotal\n",
      "Espresso \t 4 \t\t 140.0 \t\t 560.0\n",
      "Brewed Coffee \t 7 \t\t 110.0 \t\t 770.0\n",
      "Dalgona \t 7 \t\t 170.0 \t\t 1190.0\n",
      "\n",
      "Your total balance is  2520.0\n",
      "--------------------------------------------------------\n",
      "Options: N-New customer, Q-Quit Q\n",
      "Exiting CoffeePython POS Terminal. Have a great day.\n"
     ]
    }
   ],
   "source": [
    "# Sample output has been provided below\n",
    "main()"
   ]
  },
  {
   "cell_type": "code",
   "execution_count": null,
   "metadata": {
    "colab": {},
    "colab_type": "code",
    "id": "Q-ttHlie1tzN"
   },
   "outputs": [],
   "source": []
  },
  {
   "cell_type": "code",
   "execution_count": null,
   "metadata": {
    "colab": {},
    "colab_type": "code",
    "id": "CNnQpFYb1tzQ"
   },
   "outputs": [],
   "source": []
  },
  {
   "cell_type": "code",
   "execution_count": null,
   "metadata": {
    "colab": {},
    "colab_type": "code",
    "id": "0ZPgRhpT1tzS"
   },
   "outputs": [],
   "source": []
  },
  {
   "cell_type": "code",
   "execution_count": null,
   "metadata": {
    "colab": {},
    "colab_type": "code",
    "id": "dJ_VFwWS1tzU"
   },
   "outputs": [],
   "source": []
  },
  {
   "cell_type": "code",
   "execution_count": null,
   "metadata": {
    "colab": {},
    "colab_type": "code",
    "id": "ocGcbdg-1tzX"
   },
   "outputs": [],
   "source": []
  }
 ],
 "metadata": {
  "colab": {
   "collapsed_sections": [],
   "name": "CoffeePython.ipynb",
   "provenance": []
  },
  "kernelspec": {
   "display_name": "Python 3",
   "language": "python",
   "name": "python3"
  },
  "language_info": {
   "codemirror_mode": {
    "name": "ipython",
    "version": 3
   },
   "file_extension": ".py",
   "mimetype": "text/x-python",
   "name": "python",
   "nbconvert_exporter": "python",
   "pygments_lexer": "ipython3",
   "version": "3.7.6"
  }
 },
 "nbformat": 4,
 "nbformat_minor": 1
}
