{
 "cells": [
  {
   "cell_type": "markdown",
   "metadata": {},
   "source": [
    "191154\n",
    "Chua\n",
    "2 BS ME"
   ]
  },
  {
   "cell_type": "code",
   "execution_count": 15,
   "metadata": {},
   "outputs": [
    {
     "name": "stdout",
     "output_type": "stream",
     "text": [
      "Enter First Number:1\n",
      "Enter Second Number: 2\n",
      "Enter Third Number: 3\n",
      "The average is 2.0\n"
     ]
    }
   ],
   "source": [
    "firstnumber=int(input(\"Enter First Number:\"))\n",
    "secondnumber=int(input(\"Enter Second Number: \"))\n",
    "thirdnumber=int(input(\"Enter Third Number: \"))\n",
    "three_number_average=float((firstnumber+secondnumber+thirdnumber)/3)\n",
    "print(\"The average is\", three_number_average)"
   ]
  },
  {
   "cell_type": "code",
   "execution_count": null,
   "metadata": {},
   "outputs": [],
   "source": []
  }
 ],
 "metadata": {
  "kernelspec": {
   "display_name": "Python 3",
   "language": "python",
   "name": "python3"
  },
  "language_info": {
   "codemirror_mode": {
    "name": "ipython",
    "version": 3
   },
   "file_extension": ".py",
   "mimetype": "text/x-python",
   "name": "python",
   "nbconvert_exporter": "python",
   "pygments_lexer": "ipython3",
   "version": "3.7.6"
  }
 },
 "nbformat": 4,
 "nbformat_minor": 4
}
