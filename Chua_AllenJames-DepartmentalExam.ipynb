{
 "cells": [
  {
   "cell_type": "markdown",
   "metadata": {},
   "source": [
    "#Problem 1"
   ]
  },
  {
   "cell_type": "code",
   "execution_count": 96,
   "metadata": {
    "scrolled": false
   },
   "outputs": [
    {
     "name": "stdout",
     "output_type": "stream",
     "text": [
      "Enter the number of rows: 5\n",
      "<table>\n",
      "<tr class=\"lightyellowrow\"<td> 1 </td><td> 1 </td></tr>\n",
      "<tr class=\"whiterow\"<td> 2 </td><td> 4 </td></tr>\n",
      "<tr class=\"lightyellowrow\"<td> 3 </td><td> 9 </td></tr>\n",
      "<tr class=\"whiterow\"<td> 4 </td><td> 16 </td></tr>\n",
      "<tr class=\"lightyellowrow\"<td> 5 </td><td> 25 </td></tr>\n",
      "</table>\n"
     ]
    }
   ],
   "source": [
    "rows=int(input(\"Enter the number of rows: \"))\n",
    "print(\"<table>\")\n",
    "i=0\n",
    "for i in range(rows):\n",
    "    i=i+1\n",
    "    square=i**2\n",
    "    if i%2==0:\n",
    "        print('<tr class=\"whiterow\"<td>',i,'</td><td>',square,'</td></tr>')\n",
    "    else:\n",
    "        print('<tr class=\"lightyellowrow\"<td>',i,'</td><td>',square,'</td></tr>')\n",
    "print(\"</table>\")"
   ]
  },
  {
   "cell_type": "markdown",
   "metadata": {},
   "source": [
    "#Problem 2"
   ]
  },
  {
   "cell_type": "code",
   "execution_count": 104,
   "metadata": {},
   "outputs": [
    {
     "name": "stdout",
     "output_type": "stream",
     "text": [
      "Day: 32\n",
      "Month: 2\n",
      "Year: 1\n",
      "Date is not valid\n"
     ]
    }
   ],
   "source": [
    "day=int(input(\"Day: \"))\n",
    "month=int(input(\"Month: \"))\n",
    "year=int(input(\"Year: \"))\n",
    "if month>0 and month<13:\n",
    "    if month==1 or month==3 or month==5 or month==7 or month==8 or month==10 or month==12:\n",
    "        if month==1:\n",
    "            nameofmonth=\"January\"\n",
    "        elif month==3:\n",
    "            nameofmonth=\"March\"\n",
    "        elif month==5:\n",
    "            nameofmonth=\"May\"\n",
    "        elif month==7:\n",
    "            nameofmonth=\"July\"\n",
    "        elif month==8:\n",
    "            nameofmonth=\"August\"\n",
    "        elif month==10:\n",
    "            nameofmonth=\"October\"\n",
    "        else:\n",
    "            nameofmonth=\"December\"\n",
    "        if day>0 and day<32:\n",
    "            if day==1 or day==21 or day==31:\n",
    "                ordinal= \"st\"\n",
    "            elif day==2 or day==22:\n",
    "                ordinal=\"nd\"\n",
    "            elif day==3 or day==23:\n",
    "                ordinal=\"rd\"\n",
    "            else:\n",
    "                ordinal=\"th\"\n",
    "            print(\"It is the\", day, ordinal, \"of the month of\", nameofmonth, \" of the year \", year)\n",
    "        else:\n",
    "            print(\"Date is not valid\")\n",
    "    elif month==4 or month==6 or month==9 or month==11:\n",
    "        if month==4:\n",
    "            nameofmonth=\"April\"\n",
    "        elif month==6:\n",
    "            nameofmonth=\"June\"\n",
    "        elif month==9:\n",
    "            nameofmonth=\"September\"\n",
    "        else:\n",
    "            nameofmonth=\"November\"\n",
    "        if day>0 and day<31:\n",
    "            if day==1 or day==21 or day==31:\n",
    "                ordinal= \"st\"\n",
    "            elif day==2 or day==22:\n",
    "                ordinal=\"nd\"\n",
    "            elif day==3 or day==23:\n",
    "                ordinal=\"rd\"\n",
    "            else:\n",
    "                ordinal=\"th\"\n",
    "            print(\"It is the\", day, ordinal, \"of the month of\", nameofmonth, \" of the year \", year)\n",
    "    elif month==2:\n",
    "        nameofmonth=\"February\"\n",
    "        if year%4==0 or year%400==0 and year&100!=0:\n",
    "            if day>0 and day<30:\n",
    "                if day==1 or day==21:\n",
    "                    ordinal= \"st\"\n",
    "                elif day==2 or day==22:\n",
    "                    ordinal=\"nd\"\n",
    "                elif day==3 or day==23:\n",
    "                    ordinal=\"rd\"\n",
    "                else:\n",
    "                    ordinal=\"th\"\n",
    "                print(\"It is the\", day, ordinal, \"of the month of\", nameofmonth, \" of the year \", year)\n",
    "            else:\n",
    "                print(\"Date is not valid\")\n",
    "        else:\n",
    "            if day>0 and day<29:\n",
    "                if day==1 or day==21:\n",
    "                    ordinal= \"st\"\n",
    "                elif day==2 or day==22:\n",
    "                    ordinal=\"nd\"\n",
    "                elif day==3 or day==23:\n",
    "                    ordinal=\"rd\"\n",
    "                else:\n",
    "                    ordinal=\"th\"\n",
    "                print(\"It is the\", day, ordinal, \"of the month of\", nameofmonth, \" of the year \", year)\n",
    "            else:\n",
    "                print(\"Date is not valid\")\n",
    "else:\n",
    "    print(\"Date is not valid\")\n"
   ]
  },
  {
   "cell_type": "markdown",
   "metadata": {},
   "source": [
    "#Problem 3"
   ]
  },
  {
   "cell_type": "code",
   "execution_count": 66,
   "metadata": {},
   "outputs": [],
   "source": [
    "def obedient(x):\n",
    "    a=2 \n",
    "    for a in range(1,x-1):\n",
    "        b=a+1\n",
    "        c=a-1\n",
    "        if (a+b+c==x):\n",
    "            return True\n",
    "        else:\n",
    "            return False\n",
    "    "
   ]
  },
  {
   "cell_type": "code",
   "execution_count": 81,
   "metadata": {},
   "outputs": [
    {
     "name": "stdout",
     "output_type": "stream",
     "text": [
      "False\n"
     ]
    }
   ],
   "source": [
    "obedient(20)"
   ]
  },
  {
   "cell_type": "code",
   "execution_count": 41,
   "metadata": {},
   "outputs": [
    {
     "data": {
      "text/plain": [
       "False"
      ]
     },
     "execution_count": 41,
     "metadata": {},
     "output_type": "execute_result"
    }
   ],
   "source": [
    "obedient(4)"
   ]
  },
  {
   "cell_type": "markdown",
   "metadata": {},
   "source": [
    "#Problem 4"
   ]
  },
  {
   "cell_type": "code",
   "execution_count": 44,
   "metadata": {},
   "outputs": [],
   "source": [
    "def multitable(a):\n",
    "    for b in range (1,a+1):\n",
    "        for c in range (1,a+1):\n",
    "            print(b*c, \"\\t\", end=\" \")\n",
    "        print(\" \")\n",
    "    return"
   ]
  },
  {
   "cell_type": "code",
   "execution_count": 45,
   "metadata": {},
   "outputs": [
    {
     "name": "stdout",
     "output_type": "stream",
     "text": [
      "1 \t 2 \t 3 \t 4 \t 5 \t 6 \t  \n",
      "2 \t 4 \t 6 \t 8 \t 10 \t 12 \t  \n",
      "3 \t 6 \t 9 \t 12 \t 15 \t 18 \t  \n",
      "4 \t 8 \t 12 \t 16 \t 20 \t 24 \t  \n",
      "5 \t 10 \t 15 \t 20 \t 25 \t 30 \t  \n",
      "6 \t 12 \t 18 \t 24 \t 30 \t 36 \t  \n"
     ]
    }
   ],
   "source": [
    "multitable(6)"
   ]
  },
  {
   "cell_type": "markdown",
   "metadata": {},
   "source": [
    "#Problem 5"
   ]
  },
  {
   "cell_type": "code",
   "execution_count": 89,
   "metadata": {},
   "outputs": [
    {
     "name": "stdout",
     "output_type": "stream",
     "text": [
      "Do you prefer (a) the mountains, (b) the city, or (c) the beach? a\n",
      "Do you prefer (a) yoghurt, (b) ice cream, or (c) gelato? \n",
      "“Sorry, you inputted a wrong letter. Please start again.\n",
      "Do you prefer (a) the mountains, (b) the city, or (c) the beach? a\n",
      "Do you prefer (a) yoghurt, (b) ice cream, or (c) gelato? \n",
      "“Sorry, you inputted a wrong letter. Please start again.\n",
      "Do you prefer (a) the mountains, (b) the city, or (c) the beach? a\n",
      "Do you prefer (a) yoghurt, (b) ice cream, or (c) gelato? a\n",
      "Do you prefer (a) reading, (b) singing, or (c) writing? a\n",
      "Do you prefer (a) sweet, (b) salty, or (c) spicy food? c\n",
      "Do you prefer (a) cats, (b) dogs, or (c) fish? b\n",
      "Your element is fire\n"
     ]
    }
   ],
   "source": [
    "earth=0\n",
    "water=0\n",
    "fire=0\n",
    "while True:\n",
    "    player=input(\"Do you prefer (a) the mountains, (b) the city, or (c) the beach? \")\n",
    "    if player==\"a\":\n",
    "        fire+=1\n",
    "    elif player==\"b\":\n",
    "        earth+=1\n",
    "    elif player==\"c\":\n",
    "        water+=1\n",
    "    else:\n",
    "        print(\"“Sorry, you inputted a wrong letter. Please start again.\")\n",
    "        continue\n",
    "    player=input(\"Do you prefer (a) yoghurt, (b) ice cream, or (c) gelato? \")\n",
    "    if player==\"a\":\n",
    "        earth+=1\n",
    "    elif player==\"b\":\n",
    "        water+=1\n",
    "    elif player==\"c\":\n",
    "        fire+=1\n",
    "    else:\n",
    "        print(\"“Sorry, you inputted a wrong letter. Please start again.\")\n",
    "        continue\n",
    "    player=input(\"Do you prefer (a) reading, (b) singing, or (c) writing? \")\n",
    "    if player==\"a\":\n",
    "        water+=1\n",
    "    elif player==\"b\":\n",
    "            fire+=1\n",
    "    elif player==\"c\":\n",
    "        earth+=1\n",
    "    else:\n",
    "        print(\"“Sorry, you inputted a wrong letter. Please start again.\")\n",
    "        continue\n",
    "    player=input(\"Do you prefer (a) sweet, (b) salty, or (c) spicy food? \")\n",
    "    if player==\"a\":\n",
    "        earth+=1\n",
    "    elif player==\"b\":\n",
    "        water+=1\n",
    "    elif player==\"c\":\n",
    "        fire+=1\n",
    "    else:\n",
    "        print(\"“Sorry, you inputted a wrong letter. Please start again.\")\n",
    "        continue\n",
    "    player=input(\"Do you prefer (a) cats, (b) dogs, or (c) fish? \")\n",
    "    if player==\"a\":\n",
    "        earth+=1\n",
    "        break\n",
    "    elif player==\"b\":\n",
    "        fire+=1\n",
    "        break\n",
    "    elif player==\"c\":\n",
    "        water+=1\n",
    "        break\n",
    "    else:\n",
    "        print(\"“Sorry, you inputted a wrong letter. Please start again.\")\n",
    "        continue\n",
    "if water>fire and water>earth:\n",
    "    element=\"water\"\n",
    "elif water>fire and water==earth:\n",
    "    element=\"water\"\n",
    "elif earth>water and earth>fire:\n",
    "    element=\"earth\"\n",
    "elif earth>water and earth==fire:\n",
    "    element=\"earth\"\n",
    "elif fire>water and fire>earth:\n",
    "    element=\"fire\"\n",
    "else:\n",
    "    element=\"fire\" \n",
    "print(\"Your element is\", element)"
   ]
  },
  {
   "cell_type": "code",
   "execution_count": null,
   "metadata": {},
   "outputs": [],
   "source": []
  }
 ],
 "metadata": {
  "kernelspec": {
   "display_name": "Python 3",
   "language": "python",
   "name": "python3"
  },
  "language_info": {
   "codemirror_mode": {
    "name": "ipython",
    "version": 3
   },
   "file_extension": ".py",
   "mimetype": "text/x-python",
   "name": "python",
   "nbconvert_exporter": "python",
   "pygments_lexer": "ipython3",
   "version": "3.7.6"
  }
 },
 "nbformat": 4,
 "nbformat_minor": 4
}
