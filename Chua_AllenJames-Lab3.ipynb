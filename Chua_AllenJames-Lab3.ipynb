{
 "cells": [
  {
   "cell_type": "markdown",
   "metadata": {},
   "source": [
    "191154 CHUA BSME "
   ]
  },
  {
   "cell_type": "markdown",
   "metadata": {},
   "source": [
    "Problem 1\n",
    "Social Media Example\n",
    "(6 Points)\n",
    " (Links to an external site.)\n",
    "In a prototype of a new in-campus mobile app, there is social media support similar to what's seen on Facebook, Instagram and Spotify. Students and Faculty belong to the same social graph. Any student or teacher can follow other members of the app community. If two members follow each other, they are considered friends.\n",
    "\n",
    "Write a function relationship_status(from_member, to_member) that determines if two members are friends, or if the first person follows or is followed by the second person. The function should return one of these:\n",
    "\n",
    "\"follower\" (type is str)\n",
    "\"followed by\"(type is str)\n",
    "None (type is None)"
   ]
  },
  {
   "cell_type": "code",
   "execution_count": 22,
   "metadata": {},
   "outputs": [],
   "source": [
    "social_graph = {\"@bongolpoc\":{\"first_name\":\"Joselito\",\"last_name\":\"Olpoc\",\"following\":[]},\n",
    "                \"@joaquin\":  {\"first_name\":\"Joaquin\",\"last_name\":\"Gonzales\",\"following\":[\"@chums\",\"@jobenilagan\"]},\n",
    "                \"@chums\" : {\"first_name\":\"Matthew\",\"last_name\":\"Uy\", \"following\":[\"@bongolpoc\",\"@miketan\",\"@rudyang\",\"@joeilagan\"]},\n",
    "                \"@jobenilagan\":{\"first_name\":\"Joben\",\"last_name\":\"Ilagan\",\"following\":[\"@eeebeee\",\"@joeilagan\",\"@chums\",\"@joaquin\"]},\n",
    "                \"@joeilagan\":{\"first_name\":\"Joe\",\"last_name\":\"Ilagan\",\"following\":[\"@eeebeee\",\"@jobenilagan\",\"@chums\"]},\n",
    "                \"@eeebeee\":  {\"first_name\":\"Elizabeth\", \"last_name\":\"Ilagan\",\"following\":[\"@jobenilagan\",\"@joeilagan\"]},}\n",
    "\n",
    "def relationship_status(from_member,to_member):\n",
    "    if from_member in social_graph[to_member][\"following\"] and to_member in social_graph[from_member][\"following\"]:\n",
    "        return \"friends\"\n",
    "    elif from_member in social_graph[to_member][\"following\"]:\n",
    "        return \"followed by\"\n",
    "    elif to_member in social_graph[from_member][\"following\"]:\n",
    "        return \"follower\"\n",
    "    else:\n",
    "        return None"
   ]
  },
  {
   "cell_type": "code",
   "execution_count": 31,
   "metadata": {},
   "outputs": [
    {
     "data": {
      "text/plain": [
       "'follower'"
      ]
     },
     "execution_count": 31,
     "metadata": {},
     "output_type": "execute_result"
    }
   ],
   "source": [
    "relationship_status(\"@chums\",\"@bongolpoc\")"
   ]
  },
  {
   "cell_type": "code",
   "execution_count": null,
   "metadata": {},
   "outputs": [],
   "source": []
  },
  {
   "cell_type": "code",
   "execution_count": 40,
   "metadata": {},
   "outputs": [],
   "source": [
    "board1 = [\n",
    "['X','X','O'],\n",
    "['O','X','O'],\n",
    "['O','','X'],\n",
    "]\n",
    "\n",
    "board2 = [\n",
    "['X','X','O'],\n",
    "['O','X','O'],\n",
    "['','O','X'],\n",
    "]\n",
    "\n",
    "board3 = [\n",
    "['O','X','O'],\n",
    "['','O','X'],\n",
    "['X','X','O'],\n",
    "]\n",
    "\n",
    "board4 = [\n",
    "['X','X','X'],\n",
    "['O','X','O'],\n",
    "['O','','O'],\n",
    "]\n",
    "\n",
    "board5 = [\n",
    "['X','X','O'],\n",
    "['O','X','O'],\n",
    "['X','','O'],\n",
    "]\n",
    "\n",
    "board6 = [\n",
    "['X','X','O'],\n",
    "['O','X','O'],\n",
    "['X','',''],\n",
    "]\n",
    "\n",
    "\n",
    "\n",
    "\n",
    "def get_winner(board):\n",
    "\n",
    "     winner = None\n",
    "\n",
    "     ## guides to your approach:\n",
    "     ## check diagonals\n",
    "\n",
    "     ## - how do you go from left to right?\n",
    "     ## - how do you go from right to left?\n",
    "\n",
    "     ## check rows\n",
    "\n",
    "     ## check columns\n",
    "        "
   ]
  },
  {
   "cell_type": "code",
   "execution_count": 78,
   "metadata": {},
   "outputs": [],
   "source": [
    "def get_winner(board):\n",
    "    updownO=[board[i][i] for i,v in enumerate(board)].count(\"O\")\n",
    "    updownX=[board[i][i] for i,v in enumerate(board)].count(\"X\")\n",
    "    downupO=[board[2-i][i] for i,v in enumerate(board)].count(\"O\")\n",
    "    downupX=[board[2-i][i] for i,v in enumerate(board)].count(\"X\")\n",
    "    if updownX==3:\n",
    "        winner=\"X\"\n",
    "        return winner\n",
    "    elif updownO==3:\n",
    "        winner=\"O\"\n",
    "        return winner\n",
    "    elif downupX==3:\n",
    "        winner=\"X\"\n",
    "        return winner\n",
    "    elif downupO==3:\n",
    "        winner=\"O\"\n",
    "        return winner\n",
    "    else:\n",
    "        for row in range(2):\n",
    "            count = 0\n",
    "            for col in range(2):\n",
    "                if board[row][col] == \"X\" and board[row][col] != \"\":\n",
    "                    count += 1\n",
    "                    if count == 3:\n",
    "                        winner = \"X\"\n",
    "                        return winner\n",
    "                elif board[row][col] == \"O\" and board [row][col] != \"\":\n",
    "                    count += 1 \n",
    "                    if count == 3:\n",
    "                        winner = \"O\"\n",
    "                        return winner\n",
    "                else:\n",
    "                    continue\n",
    "            \n",
    "        for col in range(2):\n",
    "            count = 0\n",
    "            for row in range(2):\n",
    "                if board[row][col] == \"X\" and board[row][col] != \"\":\n",
    "                    count += 1\n",
    "                    if count == 3:\n",
    "                        winner = \"X\"\n",
    "                        return winner\n",
    "                elif board[row][col] == \"O\" and board [row][col] != \"\":\n",
    "                    count += 1 \n",
    "                    if count == 3:\n",
    "                        winner = \"O\"\n",
    "                        return winner\n"
   ]
  },
  {
   "cell_type": "code",
   "execution_count": 82,
   "metadata": {},
   "outputs": [
    {
     "data": {
      "text/plain": [
       "'X'"
      ]
     },
     "execution_count": 82,
     "metadata": {},
     "output_type": "execute_result"
    }
   ],
   "source": [
    "get_winner(board1)"
   ]
  },
  {
   "cell_type": "code",
   "execution_count": 41,
   "metadata": {},
   "outputs": [
    {
     "ename": "IndentationError",
     "evalue": "unexpected indent (<ipython-input-41-5a86239b832d>, line 37)",
     "output_type": "error",
     "traceback": [
      "\u001b[1;36m  File \u001b[1;32m\"<ipython-input-41-5a86239b832d>\"\u001b[1;36m, line \u001b[1;32m37\u001b[0m\n\u001b[1;33m    else:\u001b[0m\n\u001b[1;37m    ^\u001b[0m\n\u001b[1;31mIndentationError\u001b[0m\u001b[1;31m:\u001b[0m unexpected indent\n"
     ]
    }
   ],
   "source": []
  },
  {
   "cell_type": "code",
   "execution_count": 7,
   "metadata": {},
   "outputs": [],
   "source": [
    "locations = {\n",
    "    \"admu\":{\n",
    "        \"name\":\"Ateneo de Manila University\",\n",
    "        \"latitude\":14.6394557,\n",
    "        \"longitude\":121.0758975        \n",
    "    },\n",
    "    \"upd\":{\n",
    "        \"name\":\"University of the Philippines-Diliman Campus\",\n",
    "        \"latitude\":14.6538519,\n",
    "        \"longitude\":121.0663348\n",
    "    },\n",
    "    \"dlsu\":{\n",
    "        \"name\":\"De La Salle University-Taft\",\n",
    "        \"latitude\":14.5647346,\n",
    "        \"longitude\":120.9909876\n",
    "\n",
    "    }, # <-- Note that Python does not complain about this extra comma. This is perfectly okay.\n",
    "       #     The creators of Python saw that dictionaries tend to be changed a lot, so allowing this is a\n",
    "       #     convenience for developers who need to add elements when needed.\n",
    "}\n",
    "\n",
    "legs = {\n",
    "     (\"upd\",\"admu\"):{\n",
    "         \"travel_time_mins\":10\n",
    "     },\n",
    "     (\"admu\",\"dlsu\"):{\n",
    "         \"travel_time_mins\":35\n",
    "     },\n",
    "     (\"dlsu\",\"upd\"):{\n",
    "         \"travel_time_mins\":55\n",
    "     },\n",
    "    (\"upd\",\"dlsu\"):{\n",
    "         \"travel_time_mins\":45\n",
    "     },\n",
    "     (\"upd\",\"upd\"):{\n",
    "         \"travel_time_mins\":100\n",
    "    },\n",
    "    (\"admu\",\"upd\"):{\n",
    "         \"travel_time_mins\":90\n",
    "     },\n",
    "     (\"admu\",\"admu\"):{\n",
    "         \"travel_time_mins\":100\n",
    "    },\n",
    "    (\"dlsu\",\"admu\"):{\n",
    "         \"travel_time_mins\":65\n",
    "     },\n",
    "     (\"dlsu\",\"dlsu\"):{\n",
    "         \"travel_time_mins\":100\n",
    "     }\n",
    "}"
   ]
  },
  {
   "cell_type": "code",
   "execution_count": 8,
   "metadata": {},
   "outputs": [
    {
     "name": "stdout",
     "output_type": "stream",
     "text": [
      "Enter Source: admu\n",
      "Enter Destination: admu\n",
      "ETA:  100\n"
     ]
    }
   ],
   "source": [
    "def eta(source,destination):\n",
    "    time=legs[source,destination][\"travel_time_mins\"]\n",
    "    return time\n",
    "    # write your code here\n",
    "source=input(\"Enter Source: \")\n",
    "destination=input(\"Enter Destination: \")\n",
    "print(\"ETA: \", eta(source,destination))\n"
   ]
  },
  {
   "cell_type": "code",
   "execution_count": null,
   "metadata": {},
   "outputs": [],
   "source": []
  }
 ],
 "metadata": {
  "kernelspec": {
   "display_name": "Python 3",
   "language": "python",
   "name": "python3"
  },
  "language_info": {
   "codemirror_mode": {
    "name": "ipython",
    "version": 3
   },
   "file_extension": ".py",
   "mimetype": "text/x-python",
   "name": "python",
   "nbconvert_exporter": "python",
   "pygments_lexer": "ipython3",
   "version": "3.7.6"
  }
 },
 "nbformat": 4,
 "nbformat_minor": 4
}
