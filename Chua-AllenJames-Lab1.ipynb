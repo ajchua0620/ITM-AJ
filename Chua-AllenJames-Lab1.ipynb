{
 "cells": [
  {
   "cell_type": "markdown",
   "metadata": {},
   "source": [
    "191154\n",
    "Chua\n",
    "2 BS ME"
   ]
  },
  {
   "cell_type": "code",
   "execution_count": 4,
   "metadata": {},
   "outputs": [
    {
     "name": "stdout",
     "output_type": "stream",
     "text": [
      "Enter the amount in US Dollars: 20\n",
      "20.0  US dollar(s)=  1000.0  Philippine Pesos.\n"
     ]
    }
   ],
   "source": [
    "dollars=float(input(\"Enter the amount in US Dollars: \"))\n",
    "dollars_to_pesos=dollars*50\n",
    "print(dollars, \" US dollar(s)= \", dollars_to_pesos, \" Philippine Pesos.\")"
   ]
  },
  {
   "cell_type": "code",
   "execution_count": 6,
   "metadata": {},
   "outputs": [
    {
     "name": "stdout",
     "output_type": "stream",
     "text": [
      "55\n",
      "3\n",
      "58\n",
      "52\n",
      "165\n",
      "18\n",
      "1\n"
     ]
    }
   ],
   "source": [
    "a=int(input(\"\"))\n",
    "b=int(input(\"\"))\n",
    "sum=a+b\n",
    "difference=a-b\n",
    "product=a*b\n",
    "quotient=a//b\n",
    "remainder=a%b\n",
    "print(sum)\n",
    "print(difference)\n",
    "print(product)\n",
    "print(quotient)\n",
    "print(remainder)"
   ]
  },
  {
   "cell_type": "code",
   "execution_count": 9,
   "metadata": {},
   "outputs": [
    {
     "name": "stdout",
     "output_type": "stream",
     "text": [
      "Enter kg: 70\n",
      "Enter cm: 170\n",
      "BMI:  24.221453287197235\n"
     ]
    }
   ],
   "source": [
    "kg=float(input(\"Enter kg: \"))\n",
    "cm=float(input(\"Enter cm: \"))\n",
    "convert_cm_to_m=cm/100\n",
    "compute_bmi=kg/(convert_cm_to_m)**2\n",
    "print(\"BMI: \", compute_bmi)"
   ]
  },
  {
   "cell_type": "code",
   "execution_count": null,
   "metadata": {},
   "outputs": [],
   "source": []
  }
 ],
 "metadata": {
  "kernelspec": {
   "display_name": "Python 3",
   "language": "python",
   "name": "python3"
  },
  "language_info": {
   "codemirror_mode": {
    "name": "ipython",
    "version": 3
   },
   "file_extension": ".py",
   "mimetype": "text/x-python",
   "name": "python",
   "nbconvert_exporter": "python",
   "pygments_lexer": "ipython3",
   "version": "3.7.6"
  }
 },
 "nbformat": 4,
 "nbformat_minor": 4
}
